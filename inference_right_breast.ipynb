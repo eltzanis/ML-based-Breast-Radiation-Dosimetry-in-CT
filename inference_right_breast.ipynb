{
 "cells": [
  {
   "cell_type": "code",
   "execution_count": 1,
   "metadata": {},
   "outputs": [],
   "source": [
    "import pandas as pd\n",
    "from sklearn.preprocessing import MinMaxScaler\n",
    "from sklearn.metrics import  mean_squared_error, mean_absolute_percentage_error, mean_absolute_error\n",
    "import matplotlib.pyplot as plt\n",
    "import torch\n",
    "import numpy as np\n",
    "import torch.nn as nn\n",
    "from dnn_model import DNN_Model"
   ]
  },
  {
   "cell_type": "code",
   "execution_count": 2,
   "metadata": {},
   "outputs": [],
   "source": [
    "# Load validation data\n",
    "\n",
    "validation_data_path = 'data/right_breast_validation_top_20_features_data.csv'\n",
    "validation_data = pd.read_csv(validation_data_path)\n",
    "\n",
    "# Split data into predictors and target\n",
    "X_val = validation_data.iloc[:, :-1].values\n",
    "y_true = validation_data.iloc[:, -1].values\n",
    "\n",
    "# Load training data for scaler\n",
    "training_data_path = 'data/train_top_20_features_data.csv'\n",
    "training_data = pd.read_csv(training_data_path)\n",
    "\n",
    "# Split data into predictors (X) and target (y)\n",
    "X_train = training_data.iloc[:, :-1].values\n",
    "\n",
    "# Scale features \n",
    "scaler = MinMaxScaler()  \n",
    "X_train = scaler.fit_transform(X_train)\n",
    "X_val_scaled = scaler.transform(X_val)\n"
   ]
  },
  {
   "cell_type": "code",
   "execution_count": 3,
   "metadata": {},
   "outputs": [
    {
     "name": "stdout",
     "output_type": "stream",
     "text": [
      "Results - Right Breast (Cross-validation)\n",
      "   Fold   MAE   MSE  MAPE  Max % Error  Min % Error\n",
      "0     1  0.20  0.07  4.12        17.90         0.01\n",
      "1     2  0.20  0.07  4.12        19.37         0.09\n",
      "2     3  0.19  0.06  3.96        19.02         0.07\n",
      "3     4  0.19  0.06  3.90        18.05         0.01\n",
      "4     5  0.19  0.06  3.93        18.11         0.00\n",
      "5  Mean  0.19  0.06  4.01        18.49         0.04\n"
     ]
    }
   ],
   "source": [
    "# Function to evaluate a single model\n",
    "def evaluate_model(model_path, X_val_scaled, y_true):\n",
    "    # Load model\n",
    "    model = DNN_Model(input_size=X_val.shape[1], hidden_sizes=[32, 16, 8], output_size=1, num_layers=4, dropout=0.1)\n",
    "    model.load_state_dict(torch.load(model_path))\n",
    "    model.eval()\n",
    "    \n",
    "    # Convert validation data to torch Tensor\n",
    "    X_validation_tensor = torch.tensor(X_val_scaled, dtype=torch.float32)\n",
    "    \n",
    "    # Make predictions\n",
    "    with torch.no_grad():\n",
    "        y_pred = model(X_validation_tensor).numpy().flatten()\n",
    "    \n",
    "    # Calculating evaluation metrics\n",
    "    mae = mean_absolute_error(y_true, y_pred)\n",
    "    mse = mean_squared_error(y_true, y_pred)\n",
    "    mape = mean_absolute_percentage_error(y_true, y_pred) * 100\n",
    "    \n",
    "    # Calculating percentage differences\n",
    "    percentage_diff = np.abs((y_true - y_pred) / y_true) * 100\n",
    "    max_percentage_diff = np.max(percentage_diff)\n",
    "    min_percentage_diff = np.min(percentage_diff)\n",
    "    \n",
    "    return {\n",
    "        'MAE': mae,\n",
    "        'MSE': mse,\n",
    "        'MAPE': mape,\n",
    "        'Max % Error': max_percentage_diff,\n",
    "        'Min % Error': min_percentage_diff\n",
    "    }\n",
    "\n",
    "# Create empty list to store results\n",
    "results = []\n",
    "\n",
    "# Evaluate each fold model\n",
    "for fold in range(1, 6):\n",
    "    model_path = f'models/dose_pred_dnns/model_fold_{fold}.pth'\n",
    "    metrics = evaluate_model(model_path, X_val_scaled, y_true)\n",
    "    metrics['Fold'] = fold\n",
    "    results.append(metrics)\n",
    "\n",
    "# Convert results to DataFrame\n",
    "df_results = pd.DataFrame(results)\n",
    "\n",
    "# Rearrange columns to have Fold first\n",
    "cols = ['Fold'] + [col for col in df_results.columns if col != 'Fold']\n",
    "df_results = df_results[cols]\n",
    "\n",
    "# Round values for better display\n",
    "df_results = df_results.round(2)\n",
    "\n",
    "# Calculate mean values across all folds \n",
    "mean_values = df_results.drop('Fold', axis=1).mean().round(2)\n",
    "mean_row = pd.DataFrame([{'Fold': 'Mean'} | mean_values.to_dict()])\n",
    "df_results = pd.concat([df_results, mean_row], ignore_index=True)\n",
    "\n",
    "# Display the results\n",
    "title = 'Results - Right Breast (Cross-validation)'\n",
    "print(title)\n",
    "print(df_results)"
   ]
  }
 ],
 "metadata": {
  "kernelspec": {
   "display_name": "totalsegmentator",
   "language": "python",
   "name": "python3"
  },
  "language_info": {
   "codemirror_mode": {
    "name": "ipython",
    "version": 3
   },
   "file_extension": ".py",
   "mimetype": "text/x-python",
   "name": "python",
   "nbconvert_exporter": "python",
   "pygments_lexer": "ipython3",
   "version": "3.11.8"
  }
 },
 "nbformat": 4,
 "nbformat_minor": 2
}
