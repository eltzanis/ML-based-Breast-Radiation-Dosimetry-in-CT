{
 "cells": [
  {
   "cell_type": "code",
   "execution_count": 1,
   "metadata": {},
   "outputs": [],
   "source": [
    "import pandas as pd\n",
    "from sklearn.preprocessing import MinMaxScaler\n",
    "from sklearn.metrics import  mean_squared_error, mean_absolute_percentage_error, mean_absolute_error\n",
    "import matplotlib.pyplot as plt\n",
    "import torch\n",
    "import numpy as np\n",
    "import torch.nn as nn\n",
    "from dnn_model import DNN_Model"
   ]
  },
  {
   "cell_type": "code",
   "execution_count": 2,
   "metadata": {},
   "outputs": [],
   "source": [
    "# Load validation data\n",
    "\n",
    "validation_data_path = 'data/right_breast_validation_top_20_features_data.csv'\n",
    "validation_data = pd.read_csv(validation_data_path)\n",
    "\n",
    "# Split data into predictors and target\n",
    "X_val = validation_data.iloc[:, :-1].values\n",
    "y_true = validation_data.iloc[:, -1].values\n",
    "\n",
    "# Load training data for scaler\n",
    "training_data_path = 'data/train_top_20_features_data.csv'\n",
    "training_data = pd.read_csv(training_data_path)\n",
    "\n",
    "# Split data into predictors (X) and target (y)\n",
    "X_train = training_data.iloc[:, :-1].values\n",
    "\n",
    "# Scale features \n",
    "scaler = MinMaxScaler()  \n",
    "X_train = scaler.fit_transform(X_train)\n",
    "X_val_scaled = scaler.transform(X_val)\n"
   ]
  },
  {
   "cell_type": "code",
   "execution_count": 3,
   "metadata": {},
   "outputs": [],
   "source": [
    "#Loading model\n",
    "model_path = 'models/dose_pred_dnn/breast_dose_pred_model.pth'\n",
    "model = DNN_Model(input_size=X_val.shape[1], hidden_sizes=[32, 16, 8], output_size=1, num_layers=4, dropout=0.1)\n",
    "model.load_state_dict(torch.load(model_path))\n",
    "model.eval() \n",
    "\n",
    "# Convert validation data to torch Tensor\n",
    "X_validation_tensor = torch.tensor(X_val_scaled, dtype=torch.float32)\n",
    "\n",
    "# Make predictions\n",
    "with torch.no_grad():\n",
    "    y_pred = model(X_validation_tensor).numpy().flatten()"
   ]
  },
  {
   "cell_type": "code",
   "execution_count": 5,
   "metadata": {},
   "outputs": [
    {
     "name": "stdout",
     "output_type": "stream",
     "text": [
      "Results - Right Breast\n"
     ]
    },
    {
     "data": {
      "text/html": [
       "<div>\n",
       "<style scoped>\n",
       "    .dataframe tbody tr th:only-of-type {\n",
       "        vertical-align: middle;\n",
       "    }\n",
       "\n",
       "    .dataframe tbody tr th {\n",
       "        vertical-align: top;\n",
       "    }\n",
       "\n",
       "    .dataframe thead th {\n",
       "        text-align: right;\n",
       "    }\n",
       "</style>\n",
       "<table border=\"1\" class=\"dataframe\">\n",
       "  <thead>\n",
       "    <tr style=\"text-align: right;\">\n",
       "      <th></th>\n",
       "      <th>Metric</th>\n",
       "      <th>Value</th>\n",
       "    </tr>\n",
       "  </thead>\n",
       "  <tbody>\n",
       "    <tr>\n",
       "      <th>0</th>\n",
       "      <td>Mean Absolute Error</td>\n",
       "      <td>0.20</td>\n",
       "    </tr>\n",
       "    <tr>\n",
       "      <th>1</th>\n",
       "      <td>Mean Squared Error</td>\n",
       "      <td>0.06</td>\n",
       "    </tr>\n",
       "    <tr>\n",
       "      <th>2</th>\n",
       "      <td>Mean Absolute Percentage Error</td>\n",
       "      <td>4.02</td>\n",
       "    </tr>\n",
       "    <tr>\n",
       "      <th>3</th>\n",
       "      <td>Max Percentage Error</td>\n",
       "      <td>18.70</td>\n",
       "    </tr>\n",
       "    <tr>\n",
       "      <th>4</th>\n",
       "      <td>Min Percentage Error</td>\n",
       "      <td>0.04</td>\n",
       "    </tr>\n",
       "  </tbody>\n",
       "</table>\n",
       "</div>"
      ],
      "text/plain": [
       "                           Metric  Value\n",
       "0             Mean Absolute Error   0.20\n",
       "1              Mean Squared Error   0.06\n",
       "2  Mean Absolute Percentage Error   4.02\n",
       "3            Max Percentage Error  18.70\n",
       "4            Min Percentage Error   0.04"
      ]
     },
     "execution_count": 5,
     "metadata": {},
     "output_type": "execute_result"
    }
   ],
   "source": [
    "# Calculating evaluation metrics\n",
    "mae = mean_absolute_error(y_true, y_pred)\n",
    "mse = mean_squared_error(y_true, y_pred)\n",
    "mape = mean_absolute_percentage_error(y_true, y_pred) *100\n",
    "\n",
    "# Calculating percentage differences\n",
    "percentage_diff = np.abs((y_true - y_pred) / y_true) * 100\n",
    "max_percentage_diff = np.max(percentage_diff)\n",
    "min_percentage_diff = np.min(percentage_diff)\n",
    "\n",
    "# Creating a pandas dataframe to display the results\n",
    "metrics = {\n",
    "    'Metric': ['Mean Absolute Error', 'Mean Squared Error', 'Mean Absolute Percentage Error', 'Max Percentage Error', 'Min Percentage Error'],\n",
    "    'Value': [mae, mse, mape, max_percentage_diff, min_percentage_diff]\n",
    "}\n",
    "\n",
    "df_metrics = pd.DataFrame(metrics)\n",
    "df_metrics['Value'] = df_metrics['Value'].round(2)\n",
    "\n",
    "# Displaying the dataframe\n",
    "title = 'Results - Right Breast'\n",
    "print(title)\n",
    "df_metrics\n"
   ]
  }
 ],
 "metadata": {
  "kernelspec": {
   "display_name": "totalsegmentator",
   "language": "python",
   "name": "python3"
  },
  "language_info": {
   "codemirror_mode": {
    "name": "ipython",
    "version": 3
   },
   "file_extension": ".py",
   "mimetype": "text/x-python",
   "name": "python",
   "nbconvert_exporter": "python",
   "pygments_lexer": "ipython3",
   "version": "3.11.4"
  }
 },
 "nbformat": 4,
 "nbformat_minor": 2
}
